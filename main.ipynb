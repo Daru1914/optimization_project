{
 "cells": [
  {
   "cell_type": "markdown",
   "metadata": {},
   "source": [
    "## Saddle Point Problems or Min-Max Problems  \n",
    "Saddle point or min-max problems are more difficult problems than minimization problems. Meanwhile, min-max problems often arise in machine learning. The goal of this project is to understand the difference between min-max problems and minimization problems, and to learn methods for min-max problems."
   ]
  },
  {
   "cell_type": "markdown",
   "metadata": {},
   "source": [
    "### Notebook structure:  \n",
    "\n",
    "This project is built upon an analysis of two papers: [**A Variational Inequality Perspective on Generative Adversarial Networks**](https://openreview.net/pdf?id=r1laEnA5Ym) and [**On the Convergence of Single-Cell Stochastic Extra-Gradient Methods**](https://proceedings.neurips.cc/paper/2019/file/4625d8e31dad7d1c4c83399a6eb62f0c-Paper.pdf).\n",
    "\n",
    "In order to comply with the requirement to have a single .ipynb file in the root directory of the project, this notebook will cover analysis, experiments and graphical elements for both papers, though they will be contained in separate sections. Code related to an analysis of the problem in general will be contained in the concluding section of the notebook. <span style=\"color:#CC0000\">**COMMENT:** I am still not convinced that we will need it, so consider the last sentence to be subject to change</span>"
   ]
  },
  {
   "cell_type": "markdown",
   "metadata": {},
   "source": [
    "#### On the Convergence of Single-Cell Stochastic Extra-Gradient Methods"
   ]
  },
  {
   "cell_type": "code",
   "execution_count": null,
   "metadata": {
    "vscode": {
     "languageId": "plaintext"
    }
   },
   "outputs": [],
   "source": []
  },
  {
   "cell_type": "markdown",
   "metadata": {},
   "source": [
    "#### A Variational Inequality Perspective on Generative Adversarial Networks"
   ]
  },
  {
   "cell_type": "code",
   "execution_count": null,
   "metadata": {
    "vscode": {
     "languageId": "plaintext"
    }
   },
   "outputs": [],
   "source": []
  }
 ],
 "metadata": {
  "language_info": {
   "name": "python"
  }
 },
 "nbformat": 4,
 "nbformat_minor": 2
}
